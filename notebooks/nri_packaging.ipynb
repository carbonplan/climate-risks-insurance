{
 "cells": [
  {
   "cell_type": "markdown",
   "id": "efb0cb0d-1e40-4205-8c46-3f949142e636",
   "metadata": {},
   "source": [
    "# National Risk Index Packaging\n",
    "This notebook loads in the county level National Risk Index values downloaded from [here](https://hazards.fema.gov/nri/data-resources#csvDownload), aggregates them to the state level and writes it out to a json for plotting in the web tool."
   ]
  },
  {
   "cell_type": "code",
   "execution_count": 4,
   "id": "998ee8d5-36c9-4ad1-bd65-fccd42b5175a",
   "metadata": {},
   "outputs": [],
   "source": [
    "import pandas as pd"
   ]
  },
  {
   "cell_type": "code",
   "execution_count": 8,
   "id": "d1eb6a49-bb2e-49dd-8a71-261c161a1af1",
   "metadata": {},
   "outputs": [],
   "source": [
    "nri_counties = pd.read_csv('../data/NRI_Table_Counties.csv')\n",
    "nri_state = nri_counties.groupby('STATE').sum()"
   ]
  },
  {
   "cell_type": "code",
   "execution_count": 9,
   "id": "ce7798b4-b978-4ac0-ac1b-b08c219e4077",
   "metadata": {},
   "outputs": [],
   "source": [
    "hazards = ['AVLN', 'CFLD', 'CWAV',\n",
    "                   'DRGT', 'HAIL', 'HWAV', \n",
    "           'HRCN', 'ISTM', \n",
    "                   'LNDS', 'LTNG', 'RFLD', \n",
    "                   'SWND', 'TRND', 'TSUN', \n",
    "           'WFIR','WNTW', 'VLCN', 'ERQK']"
   ]
  },
  {
   "cell_type": "code",
   "execution_count": 10,
   "id": "28d2193e-4efd-4cc0-b5a1-564f5c290c53",
   "metadata": {},
   "outputs": [],
   "source": [
    "metrics = ['EALPE', 'EALA', 'EALB']"
   ]
  },
  {
   "cell_type": "code",
   "execution_count": 19,
   "id": "67ab5c58-e2f2-4c84-9411-0bd8aa6ccebe",
   "metadata": {},
   "outputs": [],
   "source": [
    "# some variables are not available in the NRI\n",
    "variables_not_in_NRI = ['DRGT_EALB', 'DRGT_EALPE', 'AVLN_EALA', 'CFLD_EALA', \n",
    "                        'ISTM_EALA', 'LNDS_EALA', 'LTNG_EALA', \n",
    "                        'TSUN_EALA', 'VLCN_EALA', 'ERQK_EALA']"
   ]
  },
  {
   "cell_type": "code",
   "execution_count": 20,
   "id": "ff3d3cee-e529-48af-a82c-f51d4ee4f66c",
   "metadata": {},
   "outputs": [],
   "source": [
    "all_variables = []\n",
    "for metric in metrics:\n",
    "    for hazard in hazards:\n",
    "        variable = f'{hazard}_{metric}'\n",
    "        if variable in variables_not_in_NRI:\n",
    "            continue\n",
    "        else:\n",
    "            all_variables.append(variable)\n",
    "        "
   ]
  },
  {
   "cell_type": "code",
   "execution_count": 21,
   "id": "ea385311-11a5-43c4-bd34-b5d66c1cf9e2",
   "metadata": {},
   "outputs": [],
   "source": [
    "nri_state[all_variables].to_json('risks.json', orient='index')"
   ]
  },
  {
   "cell_type": "code",
   "execution_count": null,
   "id": "5fde59e2-f3a6-4a40-af21-7925b82fb5da",
   "metadata": {},
   "outputs": [],
   "source": []
  }
 ],
 "metadata": {
  "kernelspec": {
   "display_name": "Python [conda env:notebook] *",
   "language": "python",
   "name": "conda-env-notebook-py"
  },
  "language_info": {
   "codemirror_mode": {
    "name": "ipython",
    "version": 3
   },
   "file_extension": ".py",
   "mimetype": "text/x-python",
   "name": "python",
   "nbconvert_exporter": "python",
   "pygments_lexer": "ipython3",
   "version": "3.9.13"
  }
 },
 "nbformat": 4,
 "nbformat_minor": 5
}
